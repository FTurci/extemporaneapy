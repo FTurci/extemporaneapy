{
  "nbformat": 4,
  "nbformat_minor": 0,
  "metadata": {
    "kernelspec": {
      "display_name": "Python 3",
      "language": "python",
      "name": "python3"
    },
    "language_info": {
      "codemirror_mode": {
        "name": "ipython",
        "version": 3
      },
      "file_extension": ".py",
      "mimetype": "text/x-python",
      "name": "python",
      "nbconvert_exporter": "python",
      "pygments_lexer": "ipython3",
      "version": "3.7.1"
    },
    "colab": {
      "name": "Extemporaneapy.ipynb",
      "provenance": []
    }
  },
  "cells": [
    {
      "cell_type": "code",
      "metadata": {
        "id": "iHiC8EkZsm74",
        "colab_type": "code",
        "colab": {
          "base_uri": "https://localhost:8080/",
          "height": 139
        },
        "outputId": "81e6d0b2-a2e1-4fbe-93af-65fcbbbcb5ea"
      },
      "source": [
        "!pip install gmplot\n",
        "import gmplot\n",
        "import pandas as pd\n",
        "import numpy as np"
      ],
      "execution_count": 170,
      "outputs": [
        {
          "output_type": "stream",
          "text": [
            "Requirement already satisfied: gmplot in /usr/local/lib/python3.6/dist-packages (1.4.1)\n",
            "Requirement already satisfied: requests in /usr/local/lib/python3.6/dist-packages (from gmplot) (2.23.0)\n",
            "Requirement already satisfied: chardet<4,>=3.0.2 in /usr/local/lib/python3.6/dist-packages (from requests->gmplot) (3.0.4)\n",
            "Requirement already satisfied: urllib3!=1.25.0,!=1.25.1,<1.26,>=1.21.1 in /usr/local/lib/python3.6/dist-packages (from requests->gmplot) (1.24.3)\n",
            "Requirement already satisfied: idna<3,>=2.5 in /usr/local/lib/python3.6/dist-packages (from requests->gmplot) (2.10)\n",
            "Requirement already satisfied: certifi>=2017.4.17 in /usr/local/lib/python3.6/dist-packages (from requests->gmplot) (2020.6.20)\n"
          ],
          "name": "stdout"
        }
      ]
    },
    {
      "cell_type": "code",
      "metadata": {
        "id": "LpGexJf_sm7-",
        "colab_type": "code",
        "colab": {}
      },
      "source": [
        "url ='https://docs.google.com/spreadsheets/d/1iYHApNr4LjZWybk2O5tKI4NgxQX_0mG0j-KXId2r47A/export?format=csv&gid=0'\n",
        "\n",
        "df = pd.read_csv(url)\n",
        "df['Subjects (max 3 items)']= df['Subjects (max 3 items)'].str.lower()"
      ],
      "execution_count": 171,
      "outputs": []
    },
    {
      "cell_type": "code",
      "metadata": {
        "id": "C0WyRZLssm8C",
        "colab_type": "code",
        "colab": {
          "base_uri": "https://localhost:8080/",
          "height": 483
        },
        "outputId": "90fdfc76-b96e-4db1-d09c-548926c67e5c"
      },
      "source": [
        "df"
      ],
      "execution_count": 168,
      "outputs": [
        {
          "output_type": "execute_result",
          "data": {
            "text/html": [
              "<div>\n",
              "<style scoped>\n",
              "    .dataframe tbody tr th:only-of-type {\n",
              "        vertical-align: middle;\n",
              "    }\n",
              "\n",
              "    .dataframe tbody tr th {\n",
              "        vertical-align: top;\n",
              "    }\n",
              "\n",
              "    .dataframe thead th {\n",
              "        text-align: right;\n",
              "    }\n",
              "</style>\n",
              "<table border=\"1\" class=\"dataframe\">\n",
              "  <thead>\n",
              "    <tr style=\"text-align: right;\">\n",
              "      <th></th>\n",
              "      <th>Name</th>\n",
              "      <th>Surname</th>\n",
              "      <th>Subjects (max 3 items)</th>\n",
              "      <th>City</th>\n",
              "      <th>Country</th>\n",
              "      <th>Can help with (max 3 items)</th>\n",
              "    </tr>\n",
              "  </thead>\n",
              "  <tbody>\n",
              "    <tr>\n",
              "      <th>0</th>\n",
              "      <td>Francesco</td>\n",
              "      <td>Turci</td>\n",
              "      <td>disordered systems, soft matter, computational...</td>\n",
              "      <td>Bristol</td>\n",
              "      <td>UK</td>\n",
              "      <td>editing, IT support, graphics</td>\n",
              "    </tr>\n",
              "    <tr>\n",
              "      <th>1</th>\n",
              "      <td>Gianni</td>\n",
              "      <td>Petrella</td>\n",
              "      <td>mathematics, physics, computer science</td>\n",
              "      <td>Brussels</td>\n",
              "      <td>BE</td>\n",
              "      <td>IT support and maintenance, AI, statistics</td>\n",
              "    </tr>\n",
              "    <tr>\n",
              "      <th>2</th>\n",
              "      <td>Emanuele</td>\n",
              "      <td>Penocchio</td>\n",
              "      <td>physical chemistry, thermodynamics</td>\n",
              "      <td>Luxembourg</td>\n",
              "      <td>LU</td>\n",
              "      <td>Festivaletteratura, organization, discussion o...</td>\n",
              "    </tr>\n",
              "    <tr>\n",
              "      <th>3</th>\n",
              "      <td>Fulvio</td>\n",
              "      <td>Paleari</td>\n",
              "      <td>condensed matter, solid state, computational p...</td>\n",
              "      <td>Roma</td>\n",
              "      <td>IT</td>\n",
              "      <td>editing, content discussion and production</td>\n",
              "    </tr>\n",
              "    <tr>\n",
              "      <th>4</th>\n",
              "      <td>Riccardo</td>\n",
              "      <td>Impavido</td>\n",
              "      <td>physics, mathematics, philosophy</td>\n",
              "      <td>Padova</td>\n",
              "      <td>IT</td>\n",
              "      <td>Writing, workshops</td>\n",
              "    </tr>\n",
              "    <tr>\n",
              "      <th>5</th>\n",
              "      <td>Lavinia</td>\n",
              "      <td>Marziale</td>\n",
              "      <td>mathematics, computer science, linguistics</td>\n",
              "      <td>Montpellier</td>\n",
              "      <td>FR</td>\n",
              "      <td>IT support, artistic experiments</td>\n",
              "    </tr>\n",
              "    <tr>\n",
              "      <th>6</th>\n",
              "      <td>Maria Elena</td>\n",
              "      <td>Antinori</td>\n",
              "      <td>biotechnology, microorganisms</td>\n",
              "      <td>Genova</td>\n",
              "      <td>IT</td>\n",
              "      <td>workshops, interviews</td>\n",
              "    </tr>\n",
              "    <tr>\n",
              "      <th>7</th>\n",
              "      <td>Elena Alma</td>\n",
              "      <td>Rastello</td>\n",
              "      <td>book publishing, literature, linguistics</td>\n",
              "      <td>Torino</td>\n",
              "      <td>IT</td>\n",
              "      <td>communication, discussion of contents</td>\n",
              "    </tr>\n",
              "    <tr>\n",
              "      <th>8</th>\n",
              "      <td>Sara</td>\n",
              "      <td>Dal Cengio</td>\n",
              "      <td>physics, chemistry</td>\n",
              "      <td>Barcelona</td>\n",
              "      <td>ES</td>\n",
              "      <td>radio and podcasts, interviews</td>\n",
              "    </tr>\n",
              "    <tr>\n",
              "      <th>9</th>\n",
              "      <td>Danilo</td>\n",
              "      <td>Forastiere</td>\n",
              "      <td>physical chemistry, thermodynamics</td>\n",
              "      <td>Luxembourg</td>\n",
              "      <td>LU</td>\n",
              "      <td>IT support and maintenance</td>\n",
              "    </tr>\n",
              "    <tr>\n",
              "      <th>10</th>\n",
              "      <td>Giancarlo</td>\n",
              "      <td>Cinini</td>\n",
              "      <td>scientific communication, literature, linguistics</td>\n",
              "      <td>Bergamo</td>\n",
              "      <td>IT</td>\n",
              "      <td>Festivaletteratura, writing</td>\n",
              "    </tr>\n",
              "    <tr>\n",
              "      <th>11</th>\n",
              "      <td>Mattia</td>\n",
              "      <td>Galeotti</td>\n",
              "      <td>mathematics, philosophy</td>\n",
              "      <td>Bologna</td>\n",
              "      <td>IT</td>\n",
              "      <td>Writing, discussion of contents</td>\n",
              "    </tr>\n",
              "    <tr>\n",
              "      <th>12</th>\n",
              "      <td>Francesco</td>\n",
              "      <td>Vedovato</td>\n",
              "      <td>graphics, visual arts</td>\n",
              "      <td>NaN</td>\n",
              "      <td>IT</td>\n",
              "      <td>infographics, fanzine</td>\n",
              "    </tr>\n",
              "    <tr>\n",
              "      <th>13</th>\n",
              "      <td>Matteo</td>\n",
              "      <td>Polettini</td>\n",
              "      <td>thermodynamics, disordered systems</td>\n",
              "      <td>Luxembourg</td>\n",
              "      <td>LU</td>\n",
              "      <td>organization, IT support, writing</td>\n",
              "    </tr>\n",
              "  </tbody>\n",
              "</table>\n",
              "</div>"
            ],
            "text/plain": [
              "           Name  ...                        Can help with (max 3 items)\n",
              "0     Francesco  ...                      editing, IT support, graphics\n",
              "1        Gianni  ...         IT support and maintenance, AI, statistics\n",
              "2      Emanuele  ...  Festivaletteratura, organization, discussion o...\n",
              "3        Fulvio  ...         editing, content discussion and production\n",
              "4      Riccardo  ...                                 Writing, workshops\n",
              "5       Lavinia  ...                   IT support, artistic experiments\n",
              "6   Maria Elena  ...                              workshops, interviews\n",
              "7    Elena Alma  ...              communication, discussion of contents\n",
              "8          Sara  ...                     radio and podcasts, interviews\n",
              "9        Danilo  ...                         IT support and maintenance\n",
              "10    Giancarlo  ...                        Festivaletteratura, writing\n",
              "11       Mattia  ...                    Writing, discussion of contents\n",
              "12    Francesco  ...                              infographics, fanzine\n",
              "13       Matteo  ...                  organization, IT support, writing\n",
              "\n",
              "[14 rows x 6 columns]"
            ]
          },
          "metadata": {
            "tags": []
          },
          "execution_count": 168
        }
      ]
    },
    {
      "cell_type": "code",
      "metadata": {
        "id": "0TszqY9dsm8F",
        "colab_type": "code",
        "colab": {}
      },
      "source": [
        "subj = df['Subjects (max 3 items)']\n",
        "all_subjs = [s.split(',') for s in subj]\n",
        "all_subjs = [s.strip() for l in all_subjs for s in l]\n",
        "all_subjs = \" \".join([s.replace(' ', '_').lower() for s in all_subjs])"
      ],
      "execution_count": null,
      "outputs": []
    },
    {
      "cell_type": "code",
      "metadata": {
        "id": "rU9hhApDsm8I",
        "colab_type": "code",
        "colab": {}
      },
      "source": [
        "all_subjs"
      ],
      "execution_count": null,
      "outputs": []
    },
    {
      "cell_type": "code",
      "metadata": {
        "id": "qcFp1YFRsm8L",
        "colab_type": "code",
        "colab": {}
      },
      "source": [
        "from wordcloud import WordCloud, STOPWORDS \n",
        "import matplotlib.pyplot as plt\n",
        "stopwords = set(STOPWORDS)\n",
        "wordcloud = WordCloud(width = 1600, height = 1600, \n",
        "                background_color ='white', \n",
        "                stopwords = stopwords, \n",
        "                min_font_size = 10).generate(all_subjs) \n",
        "  \n",
        "# plot the WordCloud image                        \n",
        "plt.figure(figsize = (8, 8), facecolor = None) \n",
        "plt.imshow(wordcloud) \n",
        "plt.axis(\"off\") \n",
        "plt.tight_layout(pad = 0) \n",
        "  \n",
        "plt.show() \n"
      ],
      "execution_count": null,
      "outputs": []
    },
    {
      "cell_type": "code",
      "metadata": {
        "id": "MI3fvow_xvPO",
        "colab_type": "code",
        "colab": {}
      },
      "source": [
        "import collections"
      ],
      "execution_count": null,
      "outputs": []
    },
    {
      "cell_type": "code",
      "metadata": {
        "id": "xnWukCq70L6q",
        "colab_type": "code",
        "colab": {}
      },
      "source": [
        "counts = collections.Counter(all_subjs.split())\n",
        "counts"
      ],
      "execution_count": null,
      "outputs": []
    },
    {
      "cell_type": "code",
      "metadata": {
        "id": "tIr8Jnh95noH",
        "colab_type": "code",
        "colab": {}
      },
      "source": [
        "topics = counts.keys()\n",
        "net = {}\n",
        "import networkx as nx\n",
        "G = nx.Graph()\n",
        "\n",
        "for t in topics:\n",
        "\n",
        "  # print(t)\n",
        "  G.add_node(t)\n",
        "  test = df['Subjects (max 3 items)'].str.contains(t.replace(\"_\",\" \"))\n",
        "  for p in df['Surname'][test]:\n",
        "    # print(\"    \"+p, end=\" \")\n",
        "    connections = df['Subjects (max 3 items)'][df['Surname']==p].iloc[0].split(',')\n",
        " \n",
        "    for c in connections:\n",
        "      c = c.strip()\n",
        "      key = c.replace(' ','_')\n",
        "      # print(\"->\",key)\n",
        "      if key != t:\n",
        "        if G.has_edge(t,key)==False or G.has_edge(key,t)==False:\n",
        "          G.add_edge(t,key,name=p)\n",
        "        else:\n",
        "          oldname = G.edges[t,key]['name']\n",
        "          if p in oldname:\n",
        "            pass\n",
        "          else:\n",
        "            print(G.edges[t,key]['name'])\n",
        "            G.edges[t,key]['name'] = G.edges[t,key]['name'] + \"/\\n\" + p\n",
        "            print(G.edges[t,key]['name'])\n",
        "  # print(\"\\n\")"
      ],
      "execution_count": null,
      "outputs": []
    },
    {
      "cell_type": "code",
      "metadata": {
        "id": "Bm4cEpb6KyLb",
        "colab_type": "code",
        "colab": {}
      },
      "source": [
        "plt.figure(figsize=(9,9 ),dpi=120)\n",
        "pos=nx.shell_layout(G)\n",
        "sizes = np.array([dict(counts)[f] for f in list(G.nodes)])*500\n",
        "nx.draw(G,pos=pos, with_labels=True,  \n",
        "        font_color='#797979', \n",
        "        font_weight='bold',\n",
        "        font_size=8,\n",
        "        node_size=sizes,\n",
        "        node_color=sizes, cmap = plt.cm.spring, alpha=0.75)\n",
        "nx.draw_networkx_edge_labels(G,pos=pos, edge_labels=nx.get_edge_attributes(G,'name'), font_size=7);\n",
        "xs = [xx for xx,yy in pos.values()]\n",
        "ys = [yy for xx,yy in pos.values()]\n",
        "plt.xlim(1.5*min(xs),1.5*max(xs));\n",
        "plt.ylim(1.5*min(ys),1.5*max(ys));"
      ],
      "execution_count": null,
      "outputs": []
    },
    {
      "cell_type": "code",
      "metadata": {
        "id": "ITr5LZ6d31oU",
        "colab_type": "code",
        "colab": {
          "base_uri": "https://localhost:8080/",
          "height": 34
        },
        "outputId": "fa53ae3c-03cb-4fd7-eb26-479f30f81a8f"
      },
      "source": [
        "mymap = gmplot.GoogleMapPlotter(\n",
        "    100,100,\n",
        "    16)\n",
        "mymap.draw('my_gm_plot.html')\n",
        "import os\n",
        "os.system('my_gm_plot.html')"
      ],
      "execution_count": 175,
      "outputs": [
        {
          "output_type": "execute_result",
          "data": {
            "text/plain": [
              "32512"
            ]
          },
          "metadata": {
            "tags": []
          },
          "execution_count": 175
        }
      ]
    },
    {
      "cell_type": "code",
      "metadata": {
        "id": "ddZ4yZQXCm6D",
        "colab_type": "code",
        "colab": {}
      },
      "source": [
        ""
      ],
      "execution_count": null,
      "outputs": []
    }
  ]
}